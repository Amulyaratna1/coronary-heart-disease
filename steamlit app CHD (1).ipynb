{
 "cells": [
  {
   "cell_type": "code",
   "execution_count": 43,
   "id": "476ee223",
   "metadata": {},
   "outputs": [],
   "source": [
    "import streamlit as st\n",
    "import pandas as pd\n",
    "import pickle"
   ]
  },
  {
   "cell_type": "code",
   "execution_count": 44,
   "id": "f20517b3",
   "metadata": {},
   "outputs": [],
   "source": [
    "model = pickle.load(open(r\"C:\\Users\\Dell\\logisticregression.pkl\",'rb'))"
   ]
  },
  {
   "cell_type": "code",
   "execution_count": 45,
   "id": "ef7cd478",
   "metadata": {},
   "outputs": [
    {
     "name": "stderr",
     "output_type": "stream",
     "text": [
      "C:\\ProgramData\\anaconda3\\lib\\site-packages\\sklearn\\base.py:413: UserWarning: X has feature names, but LogisticRegression was fitted without feature names\n",
      "  warnings.warn(\n"
     ]
    }
   ],
   "source": [
    "def main():\n",
    "    st.title(\"Cardio Heart Disease\")\n",
    "\n",
    "    age = st.number_input(\"Age\", min_value=1, max_value=100, step=1)\n",
    "    sex = st.selectbox(\"Sex\", [\"Male\", \"Female\"])\n",
    "    smoking = st.selectbox(\"is_smoking_YES\", [\"1\", \"0\"])\n",
    "    prevalentHyp = st.selectbox(\" prevalentHyp\", [\"1\", \"0\"])\n",
    "    diabetes= st.selectbox(\" diabetes\", [\"1\", \"0\"])\n",
    "    totChol = st.number_input(\"totChol\", min_value=0, max_value=300, step=1)\n",
    "    sysBP = st.number_input(\"sysBP\", min_value=0, max_value=200, step=1)\n",
    "    glucose = st.number_input(\"glucose\", min_value=0, max_value=200, step=1)\n",
    "    \n",
    "    # Convert categorical features to numeric values\n",
    "    sex = 1 if sex == \"Male\" else 0\n",
    "    \n",
    "    user_data =pd.DataFrame ({'age': [age],\n",
    "                 'sex': [sex],\n",
    "                 'smoking': [smoking],\n",
    "                 'prevalentHyp': [prevalentHyp],\n",
    "                 'diabetes': [diabetes],\n",
    "                 'totChol': [totChol],\n",
    "                 'sysBP': [sysBP],\n",
    "                 'glucose': [glucose]})\n",
    "\n",
    "  \n",
    "    user_df = pd.DataFrame(user_data, index=[0])\n",
    "\n",
    "    prediction = model.predict(user_df)\n",
    "    \n",
    "    if st.button(\"Predict\"):\n",
    "        if prediction[0] == 0:\n",
    "            st.error(\"The model predicts that you are not likely to have heart disease after 10 years.\")\n",
    "        else:\n",
    "            st.success(\"The model predicts that you are likely to have heart disease after 10 years.\")\n",
    "\n",
    "\n",
    "if __name__ == \"__main__\":\n",
    "    main()\n",
    "    "
   ]
  },
  {
   "cell_type": "code",
   "execution_count": null,
   "id": "2846a5b8",
   "metadata": {},
   "outputs": [],
   "source": []
  },
  {
   "cell_type": "code",
   "execution_count": null,
   "id": "21aaab03",
   "metadata": {},
   "outputs": [],
   "source": []
  },
  {
   "cell_type": "code",
   "execution_count": null,
   "id": "82a11d43",
   "metadata": {},
   "outputs": [],
   "source": []
  }
 ],
 "metadata": {
  "kernelspec": {
   "display_name": "Python 3 (ipykernel)",
   "language": "python",
   "name": "python3"
  },
  "language_info": {
   "codemirror_mode": {
    "name": "ipython",
    "version": 3
   },
   "file_extension": ".py",
   "mimetype": "text/x-python",
   "name": "python",
   "nbconvert_exporter": "python",
   "pygments_lexer": "ipython3",
   "version": "3.10.9"
  }
 },
 "nbformat": 4,
 "nbformat_minor": 5
}
